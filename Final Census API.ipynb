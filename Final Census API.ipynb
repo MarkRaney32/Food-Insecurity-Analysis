{
 "cells": [
  {
   "cell_type": "markdown",
   "id": "0060e45c-ed03-4e94-ad3a-87871eaf4f02",
   "metadata": {
    "tags": []
   },
   "source": [
    "### List of usable APIs - https://api.census.gov/data.html\n",
    "### List of variables in the API currently used - https://api.census.gov/data/2021/pdb/tract/variables.html"
   ]
  },
  {
   "cell_type": "code",
   "execution_count": 3,
   "id": "2e642dc9-2e37-45fc-a355-cf69ce3ec00a",
   "metadata": {},
   "outputs": [],
   "source": [
    "import requests\n",
    "import json\n",
    "import io\n",
    "import pandas as pd"
   ]
  },
  {
   "cell_type": "code",
   "execution_count": 4,
   "id": "8a7069c0-2fed-4477-b172-da6ea0cf0396",
   "metadata": {},
   "outputs": [],
   "source": [
    "def fetchTractDataVars():\n",
    "    \"\"\"\n",
    "    Fetches the variable names, descriptions, etc found within the census tract data\n",
    "    \"\"\"\n",
    "    \n",
    "    # If you want to change the api used, change this link to what the *variables* link sends to you (with .json instead of .html)\n",
    "    varsLink = \"https://api.census.gov/data/2021/pdb/tract/variables.json\"\n",
    "    return json.loads(requests.get(varsLink).text)"
   ]
  },
  {
   "cell_type": "code",
   "execution_count": null,
   "id": "f05bf711-e2d3-4d77-8a4b-b7911f021d4e",
   "metadata": {},
   "outputs": [],
   "source": [
    "def fetchTractData(variables, year = 2021):\n",
    "    \"\"\"\n",
    "    Generates a request string and requests census API for desired variables. Output is returned as pandas dataframe\n",
    "    Parameters:\n",
    "        variables: list of variable names you want to include\n",
    "    \"\"\"\n",
    "    \n",
    "    #Again, if you want to change the API used, change the link accordingly. Additionally, the format may or may not change\n",
    "    #with different APIs, so look out for that.\n",
    "    base = \"https://api.census.gov/data/{}/pdb/tract\".format(year)\n",
    "    forTract = \"&for=tract:*\"\n",
    "    state = \"&in=state:39\"\n",
    "    \n",
    "    #Generating get string for all requested variables\n",
    "    get = ''\n",
    "    for var in variables:\n",
    "        get += var + ','\n",
    "    get = \"?get={}\".format(get[:-1])\n",
    "    reqString = base + get + forTract + state\n",
    "\n",
    "    #Setting column names to first row vals\n",
    "    df = pd.DataFrame(json.loads(requests.get(reqString).text))\n",
    "    df.rename(columns = df.iloc[0], inplace = True)\n",
    "    df = df.drop(df.index[0])\n",
    "    \n",
    "    #Removes duplicate column names\n",
    "    return df.loc[:,~df.columns.duplicated()]"
   ]
  },
  {
   "cell_type": "code",
   "execution_count": 6,
   "id": "31c870cd-c5cf-4de4-ac79-8b0f551cbb73",
   "metadata": {},
   "outputs": [],
   "source": [
    "# Example of how we utilized the API - \n",
    "# Include all variables that you want to use\n",
    "\n",
    "#Tot_Population :       Total population\n",
    "#Civ_unemp_16plus :     Unemployed population that is 16+\n",
    "#ENG_VW :               People 14+ who either don't speak english or don't speak english very well\n",
    "#HHD_w_Broadband:       Has broadband internet access\n",
    "#Med_HHD_Inc:           Median income access\n",
    "#MrdCple_Fmly_HHD:      Married couple family households\n",
    "#No_Health_Ins:         Number of people without health insurance\n",
    "#pct_Tot_Occp_Units:    Percentage of occupied housing units\n",
    "#GIDTR:                 Funny name for census tract, love that it's not just 'tract'\n",
    "#Aggr_House_Value:      Aggregate (total) housing unit value in dollars\n",
    "#Tot_Housing_Units:     Total # of housing units in ACS survey\n",
    "\n",
    "df = fetchTractData(['state', 'County_name', 'Tot_Population_ACS_15_19',\n",
    "                     'Civ_unemp_16plus_ACS_15_19', 'ENG_VW_ACS_15_19', 'GIDTR',\n",
    "                     'HHD_w_Broadband_ACS_15_19', 'Med_HHD_Inc_ACS_15_19',\n",
    "                     'Median_Age_ACS_15_19', 'MrdCple_Fmly_HHD_CEN_2010', \n",
    "                     'No_Health_Ins_ACS_15_19', 'pct_Tot_Occp_Units_ACS_15_19',\n",
    "                     'Aggr_House_Value_ACS_15_19', 'Tot_Housing_Units_ACS_15_19'])\n",
    "df = df.drop(['county', 'tract'], axis = 1)"
   ]
  }
 ],
 "metadata": {
  "kernelspec": {
   "display_name": "Python 3 (ipykernel)",
   "language": "python",
   "name": "python3"
  },
  "language_info": {
   "codemirror_mode": {
    "name": "ipython",
    "version": 3
   },
   "file_extension": ".py",
   "mimetype": "text/x-python",
   "name": "python",
   "nbconvert_exporter": "python",
   "pygments_lexer": "ipython3",
   "version": "3.8.11"
  }
 },
 "nbformat": 4,
 "nbformat_minor": 5
}
