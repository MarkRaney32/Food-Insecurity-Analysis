{
 "cells": [
  {
   "cell_type": "code",
   "execution_count": null,
   "id": "c3f8ecbf-495c-4a56-8857-a9431a81b27e",
   "metadata": {},
   "outputs": [],
   "source": [
    "import requests\n",
    "import json\n",
    "import io\n",
    "import pandas as pd\n",
    "import matplotlib.pyplot as plt\n",
    "from lxml import etree\n",
    "import numpy as np\n",
    "import googlemaps\n",
    "from datetime import datetime\n",
    "from shapely.geometry import LineString, Point, Polygon\n",
    "import geopandas as gpd\n",
    "from ast import literal_eval\n",
    "import json"
   ]
  },
  {
   "cell_type": "code",
   "execution_count": null,
   "id": "09aa0e8f-7cd8-4c4f-af0c-f479ee237c7d",
   "metadata": {},
   "outputs": [],
   "source": [
    "# Go to https://developers.google.com/maps and click get started\n",
    "# Fill out credentials and add \"Places API\" to profile\n",
    "\n",
    "apikey = \"\" # <-- Your API key"
   ]
  },
  {
   "cell_type": "code",
   "execution_count": null,
   "id": "95e71b30-c838-49d5-82b5-4b0e37c44f43",
   "metadata": {},
   "outputs": [],
   "source": [
    "gmaps = googlemaps.Client(key=apikey)\n",
    "\n",
    "# Sample geocoding request, once you have your API key\n",
    "# I suggest trying this out to see if it works before\n",
    "# trying to scrape\n",
    "\n",
    "\"\"\"\n",
    "# Geocoding an address\n",
    "geocode_result = gmaps.geocode('1600 Amphitheatre Parkway, Mountain View, CA')\n",
    "\n",
    "# Look up an address with reverse geocoding\n",
    "reverse_geocode_result = gmaps.reverse_geocode((40.714224, -73.961452))\n",
    "\n",
    "# Request directions via public transit\n",
    "now = datetime.now()\n",
    "directions_result = gmaps.directions(\"Sydney Town Hall\",\n",
    "                                     \"Parramatta, NSW\",\n",
    "                                     mode=\"transit\",\n",
    "                                     departure_time=now)\n",
    "\"\"\""
   ]
  },
  {
   "cell_type": "code",
   "execution_count": null,
   "id": "e5e0cd48-5fc5-4960-a2a2-9440a2f5fa1f",
   "metadata": {},
   "outputs": [],
   "source": [
    "# Reading in the origin points for a search - Change string\n",
    "# To fit the directory that your file is located in\n",
    "coordsDF = pd.read_csv(\"API_Folder\\CoordinateGrid.csv\")"
   ]
  },
  {
   "cell_type": "code",
   "execution_count": null,
   "id": "a1bc322b-c98a-406d-bd1d-3d28b49e0ddb",
   "metadata": {},
   "outputs": [],
   "source": [
    "# Scraping over the points\n",
    "\n",
    "i = 0\n",
    "supermarketResultList = []\n",
    "for pair in coordsDF.Coordinate:\n",
    "    \n",
    "    # Tracking progress\n",
    "    i += 1\n",
    "    print(\"\\rprogress: {} of 2350\".format(i), end='')\n",
    "    \n",
    "    # Converting string coordinates to usable tuple\n",
    "    cord = literal_eval(pair)\n",
    "    first = float(cord[1]); second = float(cord[0])\n",
    "    \n",
    "    # Actual request - make absolutely certain this provides the result you want.\n",
    "    # query is the search string you're giving google maps, location is the origin,\n",
    "    # and radius is the radius of the circle that you're searching in meters. radius did not\n",
    "    # work for us at all, but who knows, it might for you, so just set it super high if\n",
    "    # you want a similar result to us. API will default to max 20 responses so it shouldn't\n",
    "    # matter if you set it super high.\n",
    "    locations = gmaps.places(query = \"Supermarket\", location = (first,second), radius = 4023.36)\n",
    "    \n",
    "    # Appending JSON response to list\n",
    "    supermarketResultList.append(locations)"
   ]
  },
  {
   "cell_type": "code",
   "execution_count": null,
   "id": "5efea6a1-a0aa-4d32-a291-81a1a1619e06",
   "metadata": {},
   "outputs": [],
   "source": [
    "# Writing the responses to a text file. It's formatted such that every\n",
    "# response is separated by two newlines so when you want to access the\n",
    "# data, you can split by \"\\n\\n\" and convert every item in the resulting\n",
    "# list to json dict using json.loads(<item in list>)\n",
    "\n",
    "textfile = open(\"supermarkets.txt\", \"w\")\n",
    "for element in supermarketResultList:\n",
    "    textfile.write(json.dumps(element) + \"\\n\\n\")\n",
    "textfile.close()"
   ]
  }
 ],
 "metadata": {
  "kernelspec": {
   "display_name": "Python 3 (ipykernel)",
   "language": "python",
   "name": "python3"
  },
  "language_info": {
   "codemirror_mode": {
    "name": "ipython",
    "version": 3
   },
   "file_extension": ".py",
   "mimetype": "text/x-python",
   "name": "python",
   "nbconvert_exporter": "python",
   "pygments_lexer": "ipython3",
   "version": "3.8.11"
  }
 },
 "nbformat": 4,
 "nbformat_minor": 5
}
